{
 "cells": [
  {
   "cell_type": "code",
   "execution_count": 1,
   "id": "834c424d",
   "metadata": {},
   "outputs": [
    {
     "name": "stdout",
     "output_type": "stream",
     "text": [
      "\n",
      " Input Data Set is:\n",
      "      Outlook Temperature Humidity    Wind Play Tennis\n",
      "0      Sunny         Hot     High    Weak          No\n",
      "1      Sunny         Hot     High  Strong          No\n",
      "2   Overcast         Hot     High    Weak         Yes\n",
      "3       Rain        Mild     High    Weak         Yes\n",
      "4       Rain        Cool   Normal    Weak         Yes\n",
      "5       Rain        Cool   Normal  Strong          No\n",
      "6   Overcast        Cool   Normal  Strong         Yes\n",
      "7      Sunny        Mild     High    Weak          No\n",
      "8      Sunny        Cool   Normal    Weak         Yes\n",
      "9       Rain        Mild   Normal    Weak         Yes\n",
      "10     Sunny        Mild   Normal  Strong         Yes\n",
      "11  Overcast        Mild     High  Strong         Yes\n",
      "12  Overcast         Hot   Normal    Weak         Yes\n",
      "13      Rain        Mild     High  Strong          No\n"
     ]
    }
   ],
   "source": [
    "import pandas as pd\n",
    "import numpy as np\n",
    "df = pd.read_csv(r'C:\\Users\\Ramya\\Downloads\\PlayTennis.csv')\n",
    "print(\"\\n Input Data Set is:\\n\", df)"
   ]
  },
  {
   "cell_type": "code",
   "execution_count": 2,
   "id": "5b895a7f",
   "metadata": {},
   "outputs": [
    {
     "data": {
      "text/plain": [
       "2.220446049250313e-16"
      ]
     },
     "execution_count": 2,
     "metadata": {},
     "output_type": "execute_result"
    }
   ],
   "source": [
    "eps = np.finfo(float).eps\n",
    "eps"
   ]
  },
  {
   "cell_type": "code",
   "execution_count": 3,
   "id": "744dde6c",
   "metadata": {},
   "outputs": [
    {
     "name": "stdout",
     "output_type": "stream",
     "text": [
      "Target:  Play Tennis\n",
      "Predicting Attributes:  ['Outlook', 'Temperature', 'Humidity', 'Wind']\n"
     ]
    }
   ],
   "source": [
    "target=df.keys()[-1]\n",
    "print('Target: ',target)\n",
    "attributes=list(df.keys())\n",
    "attributes.remove(target) \n",
    "print('Predicting Attributes: ', attributes)"
   ]
  },
  {
   "cell_type": "code",
   "execution_count": 4,
   "id": "f8f3c275",
   "metadata": {},
   "outputs": [
    {
     "name": "stdout",
     "output_type": "stream",
     "text": [
      "['No' 'Yes']\n"
     ]
    }
   ],
   "source": [
    "values_in_target = df[target].unique()\n",
    "print(values_in_target)"
   ]
  },
  {
   "cell_type": "code",
   "execution_count": 5,
   "id": "198f5b08",
   "metadata": {},
   "outputs": [
    {
     "data": {
      "text/plain": [
       "0.9402859586706311"
      ]
     },
     "execution_count": 5,
     "metadata": {},
     "output_type": "execute_result"
    }
   ],
   "source": [
    "def find_entropy_whole(df):\n",
    "    overall_entropy = 0\n",
    "    for value in values_in_target:\n",
    "        p = df[target].value_counts()[value] / len(df[target])\n",
    "        overall_entropy += -p * np.log2(p)\n",
    "    return overall_entropy\n",
    "\n",
    "find_entropy_whole(df)"
   ]
  },
  {
   "cell_type": "code",
   "execution_count": 6,
   "id": "c1333464",
   "metadata": {},
   "outputs": [],
   "source": [
    "def find_entropy_of_attribute(df, attribute):\n",
    "    values_in_attribute = df[attribute].unique()\n",
    "    entropy_attribute = 0\n",
    "    for value_in_attribute in values_in_attribute:\n",
    "        overall_entropy = 0\n",
    "        for value_in_target in values_in_target:\n",
    "            num = len(df[attribute][df[attribute] == value_in_attribute][df[target] == value_in_target])\n",
    "            den = len(df[attribute][df[attribute] == value_in_attribute])\n",
    "            p = num / (den+eps)\n",
    "            overall_entropy += -p * np.log2(p+eps)\n",
    "        p2 = den / len(df)\n",
    "        entropy_attribute += -p2 * overall_entropy\n",
    "    return abs(entropy_attribute)"
   ]
  },
  {
   "cell_type": "code",
   "execution_count": 7,
   "id": "e95d329f",
   "metadata": {},
   "outputs": [
    {
     "name": "stdout",
     "output_type": "stream",
     "text": [
      "Entropy of the attribute \"Outlook\" is : 0.6935361388961914\n",
      "Entropy of the attribute \"Temperature\" is : 0.9110633930116756\n",
      "Entropy of the attribute \"Humidity\" is : 0.7884504573082889\n",
      "Entropy of the attribute \"Wind\" is : 0.892158928262361\n"
     ]
    }
   ],
   "source": [
    "for attribute in df.keys()[:-1]:\n",
    "    print(f'Entropy of the attribute \"{attribute}\" is :', find_entropy_of_attribute(df, attribute))"
   ]
  },
  {
   "cell_type": "code",
   "execution_count": 8,
   "id": "d70ad496",
   "metadata": {},
   "outputs": [
    {
     "name": "stdout",
     "output_type": "stream",
     "text": [
      "[0.24674981977443977, 0.029222565658955535, 0.15183550136234225, 0.048127030408270155]\n"
     ]
    },
    {
     "data": {
      "text/plain": [
       "'Outlook'"
      ]
     },
     "execution_count": 8,
     "metadata": {},
     "output_type": "execute_result"
    }
   ],
   "source": [
    "def find_best_attribute_to_divide(df):\n",
    "    IG = []\n",
    "    all_attributes = df.keys()[:-1]\n",
    "    for attribute in all_attributes:\n",
    "        IG.append(find_entropy_whole(df) - find_entropy_of_attribute(df, attribute))\n",
    "    print(IG) \n",
    "    index_of_attribute_with_max_IG = np.argmax(IG)\n",
    "    best_attribute = all_attributes[index_of_attribute_with_max_IG]\n",
    "    return best_attribute\n",
    "find_best_attribute_to_divide(df)"
   ]
  },
  {
   "cell_type": "code",
   "execution_count": 9,
   "id": "19a4d553",
   "metadata": {},
   "outputs": [
    {
     "name": "stdout",
     "output_type": "stream",
     "text": [
      "[0.24674981977443977, 0.029222565658955535, 0.15183550136234225, 0.048127030408270155]\n",
      "[5.551115123125783e-16, 0.019973094021975557, 0.019973094021975557, 0.9709505944546682]\n",
      "[5.551115123125783e-16, 0.5709505944546689, 0.9709505944546682, 0.019973094021975557]\n"
     ]
    },
    {
     "data": {
      "text/plain": [
       "{'Outlook': {'Overcast': 'Yes',\n",
       "  'Rain': {'Wind': {'Strong': 'No', 'Weak': 'Yes'}},\n",
       "  'Sunny': {'Humidity': {'High': 'No', 'Normal': 'Yes'}}}}"
      ]
     },
     "execution_count": 9,
     "metadata": {},
     "output_type": "execute_result"
    }
   ],
   "source": [
    "def buildTree(df, tree=None):\n",
    "    node = find_best_attribute_to_divide(df)\n",
    "    attValue = np.unique(df[node])\n",
    "    if tree is None:\n",
    "        tree = {}\n",
    "        tree[node] = {}\n",
    "    for value in attValue:\n",
    "        subtable = df[df[node] == value].reset_index(drop=True)\n",
    "        clValue, counts = np.unique(subtable[target], return_counts=True)\n",
    "        if len(counts) == 1: #Checking purity of subset\n",
    "            tree[node][value] = clValue[0]\n",
    "        else:\n",
    "            tree[node][value] = buildTree(subtable) # Calling the function recusively\n",
    "    return tree\n",
    "\n",
    "buildTree(df)"
   ]
  },
  {
   "cell_type": "code",
   "execution_count": 10,
   "id": "36a9e6ba",
   "metadata": {},
   "outputs": [
    {
     "name": "stdout",
     "output_type": "stream",
     "text": [
      "[0.24674981977443977, 0.029222565658955535, 0.15183550136234225, 0.048127030408270155]\n",
      "[5.551115123125783e-16, 0.019973094021975557, 0.019973094021975557, 0.9709505944546682]\n",
      "[5.551115123125783e-16, 0.5709505944546689, 0.9709505944546682, 0.019973094021975557]\n"
     ]
    }
   ],
   "source": [
    "#https://stackoverflow.com/questions/13688410/dictionary-object-to-decision-tree-in-pydot\n",
    "import pydot\n",
    "\n",
    "data = buildTree(df)\n",
    "def draw(parent_name, child_name):\n",
    "    edge = pydot.Edge(parent_name, child_name)\n",
    "    graph.add_edge(edge)\n",
    "\n",
    "def visit(node, parent=None):\n",
    "    for k,v in node.items():\n",
    "        if isinstance(v, dict):\n",
    "            # We start with the root node whose parent is None\n",
    "            # we don't want to graph the None node\n",
    "            if parent:\n",
    "                draw(parent, k)\n",
    "            visit(v, k)\n",
    "        else:\n",
    "            draw(parent, k)\n",
    "            # drawing the label using a distinct name\n",
    "            draw(k, k+'_'+v)\n",
    "\n",
    "graph = pydot.Dot(graph_type='graph')\n",
    "visit(data)\n",
    "graph.write_png('output_graph.png')"
   ]
  }
 ],
 "metadata": {
  "kernelspec": {
   "display_name": "Python 3 (ipykernel)",
   "language": "python",
   "name": "python3"
  },
  "language_info": {
   "codemirror_mode": {
    "name": "ipython",
    "version": 3
   },
   "file_extension": ".py",
   "mimetype": "text/x-python",
   "name": "python",
   "nbconvert_exporter": "python",
   "pygments_lexer": "ipython3",
   "version": "3.9.7"
  }
 },
 "nbformat": 4,
 "nbformat_minor": 5
}
