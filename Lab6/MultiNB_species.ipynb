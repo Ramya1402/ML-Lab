{
 "cells": [
  {
   "cell_type": "code",
   "execution_count": 2,
   "id": "2e7f18b8",
   "metadata": {},
   "outputs": [],
   "source": [
    "import numpy as np\n",
    "import pandas as pd"
   ]
  },
  {
   "cell_type": "code",
   "execution_count": 3,
   "id": "255e36af",
   "metadata": {},
   "outputs": [],
   "source": [
    "dataset = pd.read_csv(r'C:\\Users\\admin\\Desktop\\species.csv')\n",
    "X = dataset.iloc[:, :-1].values\n",
    "y = dataset.iloc[:, -1].values"
   ]
  },
  {
   "cell_type": "code",
   "execution_count": 4,
   "id": "807258d7",
   "metadata": {},
   "outputs": [
    {
     "data": {
      "text/plain": [
       "array([['white ', 3, 'short'],\n",
       "       ['green ', 2, 'tall'],\n",
       "       ['green ', 3, 'short'],\n",
       "       ['white ', 3, 'short'],\n",
       "       ['green ', 2, 'short'],\n",
       "       ['white ', 2, 'tall'],\n",
       "       ['white ', 2, 'tall'],\n",
       "       ['white ', 2, 'short'],\n",
       "       ['green ', 3, 'tall']], dtype=object)"
      ]
     },
     "execution_count": 4,
     "metadata": {},
     "output_type": "execute_result"
    }
   ],
   "source": [
    "X"
   ]
  },
  {
   "cell_type": "code",
   "execution_count": 5,
   "id": "947ffad5",
   "metadata": {},
   "outputs": [
    {
     "data": {
      "text/plain": [
       "array(['M', 'M', 'M', 'M', 'H', 'H', 'H', 'H', 'H'], dtype=object)"
      ]
     },
     "execution_count": 5,
     "metadata": {},
     "output_type": "execute_result"
    }
   ],
   "source": [
    "y"
   ]
  },
  {
   "cell_type": "code",
   "execution_count": 6,
   "id": "ae751394",
   "metadata": {},
   "outputs": [],
   "source": [
    "from sklearn.preprocessing import LabelEncoder\n",
    "le = LabelEncoder()\n",
    "X[:,0] = le.fit_transform(X[:,0])\n",
    "X[:,2] = le.fit_transform(X[:,2])"
   ]
  },
  {
   "cell_type": "code",
   "execution_count": 7,
   "id": "712b763f",
   "metadata": {},
   "outputs": [],
   "source": [
    "from sklearn.model_selection import train_test_split\n",
    "X_train, X_test, y_train, y_test = train_test_split(X, y, test_size = 0.25, random_state = 0)"
   ]
  },
  {
   "cell_type": "code",
   "execution_count": 8,
   "id": "91e24d45",
   "metadata": {},
   "outputs": [
    {
     "data": {
      "text/plain": [
       "array([[1, 3, 0],\n",
       "       [0, 2, 1],\n",
       "       [0, 3, 0],\n",
       "       [1, 3, 0],\n",
       "       [0, 2, 0],\n",
       "       [1, 2, 1],\n",
       "       [1, 2, 1],\n",
       "       [1, 2, 0],\n",
       "       [0, 3, 1]], dtype=object)"
      ]
     },
     "execution_count": 8,
     "metadata": {},
     "output_type": "execute_result"
    }
   ],
   "source": [
    "X"
   ]
  },
  {
   "cell_type": "code",
   "execution_count": 9,
   "id": "8029e466",
   "metadata": {},
   "outputs": [
    {
     "data": {
      "text/plain": [
       "MultinomialNB()"
      ]
     },
     "execution_count": 9,
     "metadata": {},
     "output_type": "execute_result"
    }
   ],
   "source": [
    "from sklearn.naive_bayes import MultinomialNB\n",
    "classifier = MultinomialNB()\n",
    "classifier.fit(X_train, y_train)"
   ]
  },
  {
   "cell_type": "code",
   "execution_count": 10,
   "id": "a7d23ccb",
   "metadata": {},
   "outputs": [
    {
     "data": {
      "text/plain": [
       "array(['H', 'H', 'H'], dtype='<U1')"
      ]
     },
     "execution_count": 10,
     "metadata": {},
     "output_type": "execute_result"
    }
   ],
   "source": [
    "classifier.predict(X_test)"
   ]
  },
  {
   "cell_type": "code",
   "execution_count": 11,
   "id": "60bc36b0",
   "metadata": {},
   "outputs": [
    {
     "name": "stdout",
     "output_type": "stream",
     "text": [
      "[[1 0]\n",
      " [2 0]]\n",
      "              precision    recall  f1-score   support\n",
      "\n",
      "           H       0.33      1.00      0.50         1\n",
      "           M       0.00      0.00      0.00         2\n",
      "\n",
      "    accuracy                           0.33         3\n",
      "   macro avg       0.17      0.50      0.25         3\n",
      "weighted avg       0.11      0.33      0.17         3\n",
      "\n"
     ]
    },
    {
     "name": "stderr",
     "output_type": "stream",
     "text": [
      "C:\\ProgramData\\Anaconda3\\lib\\site-packages\\sklearn\\metrics\\_classification.py:1248: UndefinedMetricWarning: Precision and F-score are ill-defined and being set to 0.0 in labels with no predicted samples. Use `zero_division` parameter to control this behavior.\n",
      "  _warn_prf(average, modifier, msg_start, len(result))\n",
      "C:\\ProgramData\\Anaconda3\\lib\\site-packages\\sklearn\\metrics\\_classification.py:1248: UndefinedMetricWarning: Precision and F-score are ill-defined and being set to 0.0 in labels with no predicted samples. Use `zero_division` parameter to control this behavior.\n",
      "  _warn_prf(average, modifier, msg_start, len(result))\n",
      "C:\\ProgramData\\Anaconda3\\lib\\site-packages\\sklearn\\metrics\\_classification.py:1248: UndefinedMetricWarning: Precision and F-score are ill-defined and being set to 0.0 in labels with no predicted samples. Use `zero_division` parameter to control this behavior.\n",
      "  _warn_prf(average, modifier, msg_start, len(result))\n"
     ]
    }
   ],
   "source": [
    "from sklearn.metrics import confusion_matrix, accuracy_score, classification_report\n",
    "y_pred = classifier.predict(X_test)\n",
    "cm = confusion_matrix(y_test, y_pred)\n",
    "print(cm)\n",
    "accuracy_score(y_test, y_pred)\n",
    "print(classification_report(y_test, y_pred))"
   ]
  },
  {
   "cell_type": "code",
   "execution_count": 12,
   "id": "ccdd88aa",
   "metadata": {},
   "outputs": [],
   "source": [
    "class MultiNB(object):\n",
    "    \n",
    "    def __init__(self):\n",
    "        self.priors = None\n",
    "        self.params = None\n",
    "        self.unique_labels = None\n",
    "    \n",
    "    def fit(self, X, y, alpha=1.0):\n",
    "        assert ((alpha <= 1.0) and (alpha > 0.0)), \"ERROR: smoothing parameter alpha should have value within [0.0, 1.0]!\"\n",
    "        self.unique_labels = np.unique(y)\n",
    "        self.params = np.zeros(shape = (X.shape[1], len(self.unique_labels)))\n",
    "        self.priors = np.zeros(shape = (len(self.unique_labels),))\n",
    "        \n",
    "        for ix,label in enumerate(self.unique_labels):\n",
    "            # Boolean mask for extracting training samples corresponding to label\n",
    "            mask = (y == label)\n",
    "            \n",
    "            # Add-1 smoothing; verified numerically that probabilities column-sum to 1\n",
    "            token_counts_in_label = (np.sum(X[mask, :], axis=0) + alpha)\n",
    "            total_tokens_in_label = np.sum(X[mask, :]) + X.shape[1] * alpha\n",
    "            self.params[:, ix] = token_counts_in_label / total_tokens_in_label\n",
    "            self.priors[ix] = np.sum(mask)/len(y)\n",
    "    \n",
    "    def predict_log_likelihood(self, X):\n",
    "\n",
    "        log_params = np.log(self.params)\n",
    "        log_likelihoods = np.dot(X, log_params)\n",
    "        return log_likelihoods\n",
    "            \n",
    "    def predict(self, X):\n",
    "        \n",
    "        log_likelihoods = self.predict_log_likelihood(X)\n",
    "        index_to_label = np.argmax(log_likelihoods, axis=1)\n",
    "        pred_y = np.asarray([self.unique_labels[index] for index in index_to_label])\n",
    "        \n",
    "        return pred_y"
   ]
  },
  {
   "cell_type": "code",
   "execution_count": 13,
   "id": "c176a024",
   "metadata": {},
   "outputs": [],
   "source": [
    "like = MultiNB()\n",
    "like.fit(X_train,y_train)"
   ]
  },
  {
   "cell_type": "code",
   "execution_count": 14,
   "id": "50608122",
   "metadata": {},
   "outputs": [
    {
     "data": {
      "text/plain": [
       "array(['M', 'M', 'H'], dtype='<U1')"
      ]
     },
     "execution_count": 14,
     "metadata": {},
     "output_type": "execute_result"
    }
   ],
   "source": [
    "like.predict(X_test)"
   ]
  },
  {
   "cell_type": "code",
   "execution_count": null,
   "id": "c4960708",
   "metadata": {},
   "outputs": [],
   "source": []
  }
 ],
 "metadata": {
  "kernelspec": {
   "display_name": "Python 3 (ipykernel)",
   "language": "python",
   "name": "python3"
  },
  "language_info": {
   "codemirror_mode": {
    "name": "ipython",
    "version": 3
   },
   "file_extension": ".py",
   "mimetype": "text/x-python",
   "name": "python",
   "nbconvert_exporter": "python",
   "pygments_lexer": "ipython3",
   "version": "3.9.7"
  }
 },
 "nbformat": 4,
 "nbformat_minor": 5
}
