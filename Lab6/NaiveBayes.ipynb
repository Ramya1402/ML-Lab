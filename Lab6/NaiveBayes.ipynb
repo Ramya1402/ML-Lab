{
 "cells": [
  {
   "cell_type": "code",
   "execution_count": 77,
   "id": "553ab08e",
   "metadata": {},
   "outputs": [],
   "source": [
    "import numpy as np"
   ]
  },
  {
   "cell_type": "code",
   "execution_count": 79,
   "id": "91ceed9d",
   "metadata": {},
   "outputs": [],
   "source": [
    "rng = np.random.RandomState(1)\n",
    "X = rng.randint(5, size=(6, 100))\n",
    "y = np.array([1, 2, 3, 4, 5, 6])"
   ]
  },
  {
   "cell_type": "code",
   "execution_count": 83,
   "id": "2fd47a6d",
   "metadata": {},
   "outputs": [
    {
     "data": {
      "text/plain": [
       "MultinomialNB()"
      ]
     },
     "execution_count": 83,
     "metadata": {},
     "output_type": "execute_result"
    }
   ],
   "source": [
    "from sklearn.naive_bayes import MultinomialNB\n",
    "multi = MultinomialNB()\n",
    "multi.fit(X, y)"
   ]
  },
  {
   "cell_type": "code",
   "execution_count": 84,
   "id": "6ecc8d1d",
   "metadata": {},
   "outputs": [
    {
     "name": "stdout",
     "output_type": "stream",
     "text": [
      "[3]\n"
     ]
    }
   ],
   "source": [
    "print(multi.predict(X[2:3]))"
   ]
  },
  {
   "cell_type": "code",
   "execution_count": 89,
   "id": "ecd5dfc6",
   "metadata": {},
   "outputs": [],
   "source": [
    "class MultiNB(object):\n",
    "    \n",
    "    def __init__(self):\n",
    "        self.priors = None\n",
    "        self.params = None\n",
    "        self.unique_labels = None\n",
    "    \n",
    "    def fit(self, X, y, alpha=1.0):\n",
    "        assert ((alpha <= 1.0) and (alpha > 0.0)), \"ERROR: smoothing parameter alpha should have value within [0.0, 1.0]!\"\n",
    "        self.unique_labels = np.unique(y)\n",
    "        self.params = np.zeros(shape = (X.shape[1], len(self.unique_labels)))\n",
    "        self.priors = np.zeros(shape = (len(self.unique_labels),))\n",
    "        \n",
    "        for ix,label in enumerate(self.unique_labels):\n",
    "            # Boolean mask for extracting training samples corresponding to label\n",
    "            mask = (y == label)\n",
    "            \n",
    "            # Add-1 smoothing; verified numerically that probabilities column-sum to 1\n",
    "            token_counts_in_label = (np.sum(X[mask, :], axis=0) + alpha)\n",
    "            total_tokens_in_label = np.sum(X[mask, :]) + X.shape[1] * alpha\n",
    "            self.params[:, ix] = token_counts_in_label / total_tokens_in_label\n",
    "            self.priors[ix] = np.sum(mask)/len(y)\n",
    "    \n",
    "    def predict_log_likelihood(self, X):\n",
    "\n",
    "        log_params = np.log(self.params)\n",
    "        log_likelihoods = np.dot(X, log_params)\n",
    "        return log_likelihoods\n",
    "            \n",
    "    def predict(self, X):\n",
    "        \n",
    "        log_likelihoods = self.predict_log_likelihood(X)\n",
    "        index_to_label = np.argmax(log_likelihoods, axis=1)\n",
    "        pred_y = np.asarray([self.unique_labels[index] for index in index_to_label])\n",
    "        \n",
    "        return pred_y"
   ]
  },
  {
   "cell_type": "code",
   "execution_count": 90,
   "id": "de3885af",
   "metadata": {},
   "outputs": [],
   "source": [
    "like = MultiNB()\n",
    "like.fit(X,y)"
   ]
  },
  {
   "cell_type": "code",
   "execution_count": 91,
   "id": "ca52b381",
   "metadata": {},
   "outputs": [
    {
     "data": {
      "text/plain": [
       "array([3])"
      ]
     },
     "execution_count": 91,
     "metadata": {},
     "output_type": "execute_result"
    }
   ],
   "source": [
    "like.predict(X[2:3])"
   ]
  }
 ],
 "metadata": {
  "kernelspec": {
   "display_name": "Python 3 (ipykernel)",
   "language": "python",
   "name": "python3"
  },
  "language_info": {
   "codemirror_mode": {
    "name": "ipython",
    "version": 3
   },
   "file_extension": ".py",
   "mimetype": "text/x-python",
   "name": "python",
   "nbconvert_exporter": "python",
   "pygments_lexer": "ipython3",
   "version": "3.9.7"
  }
 },
 "nbformat": 4,
 "nbformat_minor": 5
}
