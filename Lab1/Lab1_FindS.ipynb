{
 "cells": [
  {
   "cell_type": "code",
   "execution_count": 19,
   "metadata": {},
   "outputs": [
    {
     "name": "stdout",
     "output_type": "stream",
     "text": [
      "[['sunny', 'warm', 'normal', 'strong', 'warm', 'same', 'yes'], ['sunny', 'warm', 'high', 'strong', 'warm', 'same', 'yes'], ['rainy', 'cold', 'high', 'strong', 'warm', 'change', 'no'], ['sunny', 'warm', 'high', 'strong', 'cool', 'change', 'yes']]\n",
      "\n",
      " The initial hypothesis is: ['0', '0', '0', '0', '0', '0']\n",
      "\n",
      " Instance 1 is ['sunny', 'warm', 'normal', 'strong', 'warm', 'same', 'yes'] and it is a Positive Instance\n",
      "The hypothesis for the training instance 1 is: ['sunny', 'warm', 'normal', 'strong', 'warm', 'same'] \n",
      "\n",
      "\n",
      " Instance 2 is ['sunny', 'warm', 'high', 'strong', 'warm', 'same', 'yes'] and it is a Positive Instance\n",
      "The hypothesis for the training instance 2 is: ['sunny', 'warm', '?', 'strong', 'warm', 'same'] \n",
      "\n",
      "\n",
      " Instance 3 is ['rainy', 'cold', 'high', 'strong', 'warm', 'change', 'no'] and it is a Negative Instance. Hence, it is IGNORED.\n",
      "The hypothesis for the training instance 3 is: ['sunny', 'warm', '?', 'strong', 'warm', 'same'] \n",
      "\n",
      "\n",
      " Instance 4 is ['sunny', 'warm', 'high', 'strong', 'cool', 'change', 'yes'] and it is a Positive Instance\n",
      "The hypothesis for the training instance 4 is: ['sunny', 'warm', '?', 'strong', '?', '?'] \n",
      "\n",
      "\n",
      " The Maximally specific hypothesis for the training instance is: ['sunny', 'warm', '?', 'strong', '?', '?']\n"
     ]
    }
   ],
   "source": [
    "import csv\n",
    "a=[]\n",
    "with open(r'C:\\Users\\bmsce\\Desktop\\enjoysport.csv','r') as csvfile:\n",
    "    next(csvfile)\n",
    "    for r in csv.reader(csvfile):\n",
    "        a.append(r)\n",
    "    print(a)\n",
    "num_attr = len(a[0]) - 1\n",
    "hyp = ['0']*num_attr\n",
    "print(\"\\n The initial hypothesis is:\",hyp)\n",
    "\n",
    "for i in range(0,len(a)):\n",
    "    if a[i][num_attr]=='yes':\n",
    "        print(\"\\n Instance\",i+1,\"is\",a[i],\"and it is a Positive Instance\")\n",
    "        for j in range(0,num_attr):\n",
    "            if hyp[j]=='0' or hyp[j]==a[i][j]:\n",
    "                hyp[j]=a[i][j]\n",
    "            else:\n",
    "                hyp[j]='?'\n",
    "        print(\"The hypothesis for the training instance\",i+1,\"is:\",hyp,\"\\n\")\n",
    "    if a[i][num_attr]=='no':\n",
    "        print(\"\\n Instance\",i+1,\"is\",a[i],\"and it is a Negative Instance. Hence, it is IGNORED.\")\n",
    "        print(\"The hypothesis for the training instance\",i+1,\"is:\",hyp,\"\\n\")\n",
    "print(\"\\n The Maximally specific hypothesis for the training instance is:\",hyp)"
   ]
  },
  {
   "cell_type": "code",
   "execution_count": 8,
   "metadata": {},
   "outputs": [
    {
     "name": "stdout",
     "output_type": "stream",
     "text": [
      "[['sunny', 'hot', 'high', 'weak', 'no'], ['sunny', 'hot', 'high', 'strong', 'no'], ['overcast', 'hot', 'high', 'weak', 'yes'], ['rainy', 'mild', 'high', 'weak', 'yes'], ['rainy', 'cool', 'normal', 'weak', 'yes'], ['rainy', 'cool', 'normal', 'strong', 'no'], ['overcast', 'cool', 'normal', 'strong', 'yes'], ['sunny', 'mild', 'high', 'weak', 'no'], ['sunny', 'cool', 'normal', 'weak', 'yes'], ['rainy', 'mild', 'normal', 'weak', 'yes'], ['sunny', 'mild', 'normal', 'strong', 'yes'], ['overcast', 'mild', 'high', 'strong', 'yes'], ['overcast', 'hot', 'normal', 'weak', 'yes'], ['rainy', 'mild', 'high', 'strong', 'no']]\n",
      "\n",
      " The initial hypothesis is: ['0', '0', '0', '0']\n",
      "\n",
      " Instance 1 is ['sunny', 'hot', 'high', 'weak', 'no'] and it is a Negative Instance. Hence, it is IGNORED.\n",
      "The hypothesis for the training instance 1 is: ['0', '0', '0', '0'] \n",
      "\n",
      "\n",
      " Instance 2 is ['sunny', 'hot', 'high', 'strong', 'no'] and it is a Negative Instance. Hence, it is IGNORED.\n",
      "The hypothesis for the training instance 2 is: ['0', '0', '0', '0'] \n",
      "\n",
      "\n",
      " Instance 3 is ['overcast', 'hot', 'high', 'weak', 'yes'] and it is a Positive Instance\n",
      "The hypothesis for the training instance 3 is: ['overcast', 'hot', 'high', 'weak'] \n",
      "\n",
      "\n",
      " Instance 4 is ['rainy', 'mild', 'high', 'weak', 'yes'] and it is a Positive Instance\n",
      "The hypothesis for the training instance 4 is: ['?', '?', 'high', 'weak'] \n",
      "\n",
      "\n",
      " Instance 5 is ['rainy', 'cool', 'normal', 'weak', 'yes'] and it is a Positive Instance\n",
      "The hypothesis for the training instance 5 is: ['?', '?', '?', 'weak'] \n",
      "\n",
      "\n",
      " Instance 6 is ['rainy', 'cool', 'normal', 'strong', 'no'] and it is a Negative Instance. Hence, it is IGNORED.\n",
      "The hypothesis for the training instance 6 is: ['?', '?', '?', 'weak'] \n",
      "\n",
      "\n",
      " Instance 7 is ['overcast', 'cool', 'normal', 'strong', 'yes'] and it is a Positive Instance\n",
      "The hypothesis for the training instance 7 is: ['?', '?', '?', '?'] \n",
      "\n",
      "\n",
      " Instance 8 is ['sunny', 'mild', 'high', 'weak', 'no'] and it is a Negative Instance. Hence, it is IGNORED.\n",
      "The hypothesis for the training instance 8 is: ['?', '?', '?', '?'] \n",
      "\n",
      "\n",
      " Instance 9 is ['sunny', 'cool', 'normal', 'weak', 'yes'] and it is a Positive Instance\n",
      "The hypothesis for the training instance 9 is: ['?', '?', '?', '?'] \n",
      "\n",
      "\n",
      " Instance 10 is ['rainy', 'mild', 'normal', 'weak', 'yes'] and it is a Positive Instance\n",
      "The hypothesis for the training instance 10 is: ['?', '?', '?', '?'] \n",
      "\n",
      "\n",
      " Instance 11 is ['sunny', 'mild', 'normal', 'strong', 'yes'] and it is a Positive Instance\n",
      "The hypothesis for the training instance 11 is: ['?', '?', '?', '?'] \n",
      "\n",
      "\n",
      " Instance 12 is ['overcast', 'mild', 'high', 'strong', 'yes'] and it is a Positive Instance\n",
      "The hypothesis for the training instance 12 is: ['?', '?', '?', '?'] \n",
      "\n",
      "\n",
      " Instance 13 is ['overcast', 'hot', 'normal', 'weak', 'yes'] and it is a Positive Instance\n",
      "The hypothesis for the training instance 13 is: ['?', '?', '?', '?'] \n",
      "\n",
      "\n",
      " Instance 14 is ['rainy', 'mild', 'high', 'strong', 'no'] and it is a Negative Instance. Hence, it is IGNORED.\n",
      "The hypothesis for the training instance 14 is: ['?', '?', '?', '?'] \n",
      "\n",
      "\n",
      " The Maximally specific hypothesis for the training instance is: ['?', '?', '?', '?']\n"
     ]
    }
   ],
   "source": [
    "import csv\n",
    "a=[]\n",
    "with open(r'C:\\Users\\bmsce\\Desktop\\tennis.csv','r') as csvfile:\n",
    "    next(csvfile)\n",
    "    for r in csv.reader(csvfile):\n",
    "        a.append(r)\n",
    "    print(a)\n",
    "num_attr = len(a[0]) - 1\n",
    "hyp = ['0']*num_attr\n",
    "print(\"\\n The initial hypothesis is:\",hyp)\n",
    "\n",
    "for i in range(0,len(a)):\n",
    "    if a[i][num_attr]=='yes':\n",
    "        print(\"\\n Instance\",i+1,\"is\",a[i],\"and it is a Positive Instance\")\n",
    "        for j in range(0,num_attr):\n",
    "            if hyp[j]=='0' or hyp[j]==a[i][j]:\n",
    "                hyp[j]=a[i][j]\n",
    "            else:\n",
    "                hyp[j]='?'\n",
    "        print(\"The hypothesis for the training instance\",i+1,\"is:\",hyp,\"\\n\")\n",
    "    if a[i][num_attr]=='no':\n",
    "        print(\"\\n Instance\",i+1,\"is\",a[i],\"and it is a Negative Instance. Hence, it is IGNORED.\")\n",
    "        print(\"The hypothesis for the training instance\",i+1,\"is:\",hyp,\"\\n\")\n",
    "print(\"\\n The Maximally specific hypothesis for the training instance is:\",hyp)"
   ]
  },
  {
   "cell_type": "code",
   "execution_count": 14,
   "metadata": {},
   "outputs": [
    {
     "name": "stdout",
     "output_type": "stream",
     "text": [
      "[['sunny' 'warm' 'normal' 'strong' 'warm' 'same']\n",
      " ['sunny' 'warm' 'high' 'strong' 'warm' 'same']\n",
      " ['rainy' 'cold' 'high' 'strong' 'warm' 'change']\n",
      " ['sunny' 'warm' 'high' 'strong' 'cool' 'change']]\n"
     ]
    }
   ],
   "source": [
    "import pandas as pd\n",
    "import numpy as np\n",
    "data=pd.read_csv(r'C:\\Users\\bmsce\\Desktop\\enjoysport.csv')\n",
    "con=np.array(data)[:,:-1]\n",
    "print(con)"
   ]
  },
  {
   "cell_type": "code",
   "execution_count": null,
   "metadata": {},
   "outputs": [],
   "source": []
  }
 ],
 "metadata": {
  "kernelspec": {
   "display_name": "Python 3",
   "language": "python",
   "name": "python3"
  },
  "language_info": {
   "codemirror_mode": {
    "name": "ipython",
    "version": 3
   },
   "file_extension": ".py",
   "mimetype": "text/x-python",
   "name": "python",
   "nbconvert_exporter": "python",
   "pygments_lexer": "ipython3",
   "version": "3.7.3"
  }
 },
 "nbformat": 4,
 "nbformat_minor": 2
}
